{
 "cells": [
  {
   "cell_type": "code",
   "execution_count": 5,
   "id": "5564f26b-0f98-4d32-8530-21a08881d57f",
   "metadata": {},
   "outputs": [
    {
     "data": {
      "text/plain": [
       "array(['HipHop', 'Dance'], dtype=object)"
      ]
     },
     "execution_count": 5,
     "metadata": {},
     "output_type": "execute_result"
    }
   ],
   "source": [
    "import pandas as pd\n",
    "from sklearn.tree import DecisionTreeClassifier\n",
    "\n",
    "music_data = pd.read_csv('music.csv')  # returns DataFrame object\n",
    "X = music_data.drop(columns=['genre'])  # X is input dataset without 'genre' col\n",
    "y = music_data['genre']  # y is output dataset with only 'genre' col\n",
    "\n",
    "# create model that learns patterns in data\n",
    "model = DecisionTreeClassifier()\n",
    "model.fit(X, y)  # training the model with fit()\n",
    "df_data = pd.DataFrame([ [21, 1], [22, 0] ], columns=X.columns)\n",
    "predictions = model.predict(df_data)\n",
    "predictions"
   ]
  },
  {
   "cell_type": "code",
   "execution_count": null,
   "id": "b3919638-2111-4a69-b4af-79fdb8ea949c",
   "metadata": {},
   "outputs": [],
   "source": []
  }
 ],
 "metadata": {
  "kernelspec": {
   "display_name": "Python (base)",
   "language": "python",
   "name": "base"
  },
  "language_info": {
   "codemirror_mode": {
    "name": "ipython",
    "version": 3
   },
   "file_extension": ".py",
   "mimetype": "text/x-python",
   "name": "python",
   "nbconvert_exporter": "python",
   "pygments_lexer": "ipython3",
   "version": "3.13.5"
  },
  "panel-cell-order": [
   "026d83f1-205e-414c-a099-fa93a80f49f9",
   "75c9122e-3060-4a9e-895f-396fae29674d",
   "69e9ace7-91ae-4ccb-9426-8ef16b7232d7",
   "dc600690-9151-42c9-871f-ce818f5ee0da"
  ]
 },
 "nbformat": 4,
 "nbformat_minor": 5
}
