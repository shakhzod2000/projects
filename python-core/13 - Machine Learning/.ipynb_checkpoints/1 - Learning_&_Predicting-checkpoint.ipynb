{
 "cells": [
  {
   "cell_type": "code",
   "execution_count": 53,
   "id": "5564f26b-0f98-4d32-8530-21a08881d57f",
   "metadata": {},
   "outputs": [
    {
     "data": {
      "text/plain": [
       "0.75"
      ]
     },
     "execution_count": 53,
     "metadata": {},
     "output_type": "execute_result"
    }
   ],
   "source": [
    "import pandas as pd\n",
    "from sklearn.tree import DecisionTreeClassifier\n",
    "from sklearn.model_selection import train_test_split\n",
    "from sklearn.metrics import accuracy_score\n",
    "\n",
    "music_data = pd.read_csv('music.csv') # returns DataFrame object\n",
    "X = music_data.drop(columns=['genre']) # X is input dataset\n",
    "y = music_data['genre'] # y is output dataset\n",
    "X_train, X_test, y_train, y_test = train_test_split(X, y, test_size=0.2) # allocate 20% of data for testing\n",
    "\n",
    "# create model that learns patterns in data\n",
    "model = DecisionTreeClassifier()\n",
    "model.fit(X_train, y_train) # training the model with fit()\n",
    "df_data = pd.DataFrame(X_test, columns=X.columns)\n",
    "predictions = model.predict(df_data)\n",
    "# accuracy_score() returns acc_score between 0 to 1\n",
    "score = accuracy_score(y_test, predictions) # y_test=expected vals, predictions=actual vals\n",
    "score"
   ]
  }
 ],
 "metadata": {
  "kernelspec": {
   "display_name": "Python (base)",
   "language": "python",
   "name": "base"
  },
  "language_info": {
   "codemirror_mode": {
    "name": "ipython",
    "version": 3
   },
   "file_extension": ".py",
   "mimetype": "text/x-python",
   "name": "python",
   "nbconvert_exporter": "python",
   "pygments_lexer": "ipython3",
   "version": "3.13.5"
  },
  "panel-cell-order": [
   "026d83f1-205e-414c-a099-fa93a80f49f9",
   "75c9122e-3060-4a9e-895f-396fae29674d",
   "69e9ace7-91ae-4ccb-9426-8ef16b7232d7",
   "dc600690-9151-42c9-871f-ce818f5ee0da"
  ]
 },
 "nbformat": 4,
 "nbformat_minor": 5
}
