{
 "cells": [
  {
   "cell_type": "code",
   "execution_count": null,
   "id": "c9c779c1-6f96-41b4-865d-09101ce750cd",
   "metadata": {},
   "outputs": [],
   "source": [
    "import pandas as pd\n",
    "from sklearn.tree import DecisionTreeClassifier\n",
    "import joblib\n",
    "\n",
    "music_data = pd.read_csv('music.csv')  # returns DataFrame object\n",
    "X = music_data.drop(columns=['genre'])  # X is input dataset without 'genre' col\n",
    "y = music_data['genre']  # y is output dataset with only 'genre' col\n",
    "\n",
    "# create model that learns patterns in data\n",
    "model = DecisionTreeClassifier()\n",
    "model.fit(X, y)  # training the model with fit()\n",
    "\n",
    "joblib.dump(model, 'music-recommender(2).joblib')  # ✅ save model"
   ]
  }
 ],
 "metadata": {
  "kernelspec": {
   "display_name": "Python (base)",
   "language": "python",
   "name": "base"
  },
  "language_info": {
   "codemirror_mode": {
    "name": "ipython",
    "version": 3
   },
   "file_extension": ".py",
   "mimetype": "text/x-python",
   "name": "python",
   "nbconvert_exporter": "python",
   "pygments_lexer": "ipython3",
   "version": "3.13.5"
  }
 },
 "nbformat": 4,
 "nbformat_minor": 5
}
