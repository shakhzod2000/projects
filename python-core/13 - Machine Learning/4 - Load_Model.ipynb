{
 "cells": [
  {
   "cell_type": "code",
   "execution_count": 10,
   "id": "307efc25-90d8-4b33-be7d-ef906b3ae4a1",
   "metadata": {},
   "outputs": [
    {
     "data": {
      "text/plain": [
       "array(['Classical', 'Acoustic'], dtype=object)"
      ]
     },
     "execution_count": 10,
     "metadata": {},
     "output_type": "execute_result"
    }
   ],
   "source": [
    "import pandas as pd\n",
    "from sklearn.tree import DecisionTreeClassifier\n",
    "import joblib\n",
    "\n",
    "\n",
    "model = joblib.load('music-recommender.joblib')  # ✅ load model\n",
    "# we trained the model using DataFrame,\n",
    "# so we need to wrap prediction data in pd.DataFrame() including col names\n",
    "input_data = pd.DataFrame([ [32, 1], [29, 0] ], columns=['age', 'gender'])\n",
    "\n",
    "predictions = model.predict(input_data)  # exp: classical, acoustic\n",
    "predictions"
   ]
  }
 ],
 "metadata": {
  "kernelspec": {
   "display_name": "Python (base)",
   "language": "python",
   "name": "base"
  },
  "language_info": {
   "codemirror_mode": {
    "name": "ipython",
    "version": 3
   },
   "file_extension": ".py",
   "mimetype": "text/x-python",
   "name": "python",
   "nbconvert_exporter": "python",
   "pygments_lexer": "ipython3",
   "version": "3.13.5"
  }
 },
 "nbformat": 4,
 "nbformat_minor": 5
}
