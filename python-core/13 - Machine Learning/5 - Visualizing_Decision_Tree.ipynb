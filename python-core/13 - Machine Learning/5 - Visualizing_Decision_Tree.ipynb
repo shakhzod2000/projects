{
 "cells": [
  {
   "cell_type": "code",
   "execution_count": 1,
   "id": "6d3a5d32-8052-4942-b779-f21c23deb6c9",
   "metadata": {},
   "outputs": [],
   "source": [
    "import pandas as pd\n",
    "from sklearn.tree import DecisionTreeClassifier\n",
    "from sklearn import tree\n",
    "\n",
    "# import 'music.csv' dataset\n",
    "music_data = pd.read_csv('music.csv')  # returns DataFrame object\n",
    "\n",
    "# create input & output sets (X, y)\n",
    "X = music_data.drop(columns=['genre'])  # X is input set without 'genre' col\n",
    "y = music_data['genre']  # y is output set with only 'genre' col\n",
    "\n",
    "# create model that learns patterns in data\n",
    "model = DecisionTreeClassifier()\n",
    "model.fit(X, y)  # training the model with fit()\n",
    "\n",
    "tree.export_graphviz(model, out_file='music-recommender.dot',\n",
    "                    feature_names=['age', 'gender'],\n",
    "                    class_names=sorted(y.unique()),\n",
    "                    label='all',\n",
    "                    rounded=True,\n",
    "                    filled=True)\n",
    "# .dot = graph description language\n",
    "# filled=True - each visual box/node filled with color\n",
    "# rounded=True - to have rounded corners for boxes\n",
    "# label='all' - every node has labels, so we can read\n",
    "# class_names=sorted(y.unique()) - to show class names for each node/box\n",
    "# feature_names=['age', 'gender'] - to see rules in nodes(e.g. age <= 30.5, gender <= 0.5)"
   ]
  }
 ],
 "metadata": {
  "kernelspec": {
   "display_name": "Python (base)",
   "language": "python",
   "name": "base"
  },
  "language_info": {
   "codemirror_mode": {
    "name": "ipython",
    "version": 3
   },
   "file_extension": ".py",
   "mimetype": "text/x-python",
   "name": "python",
   "nbconvert_exporter": "python",
   "pygments_lexer": "ipython3",
   "version": "3.13.5"
  }
 },
 "nbformat": 4,
 "nbformat_minor": 5
}
